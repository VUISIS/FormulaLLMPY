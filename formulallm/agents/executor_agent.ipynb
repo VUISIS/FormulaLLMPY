{
 "cells": [
  {
   "cell_type": "code",
   "execution_count": 1,
   "metadata": {},
   "outputs": [],
   "source": [
    "import tempfile\n",
    "\n",
    "from autogen import ConversableAgent\n",
    "from autogen.coding import LocalCommandLineCodeExecutor"
   ]
  },
  {
   "cell_type": "code",
   "execution_count": 2,
   "metadata": {},
   "outputs": [],
   "source": [
    "# Create a temporary directory to store the code files.\n",
    "temp_dir = tempfile.TemporaryDirectory()\n",
    "\n",
    "# Create a local command line code executor.\n",
    "executor = LocalCommandLineCodeExecutor(\n",
    "    timeout=60,  # Timeout for each code execution in seconds.\n",
    "    work_dir=temp_dir.name,  # Use the temporary directory to store the code files.\n",
    ")"
   ]
  },
  {
   "cell_type": "code",
   "execution_count": 3,
   "metadata": {},
   "outputs": [],
   "source": [
    "# Create an agent with code executor configuration.\n",
    "code_executor_agent = ConversableAgent(\n",
    "    \"code_executor_agent\",\n",
    "    llm_config=False,  # Turn off LLM for this agent.\n",
    "    code_execution_config={\"executor\": executor},  # Use the local command line code executor.\n",
    "    human_input_mode=\"ALWAYS\",  # Always take human input for this agent for safety.\n",
    ")"
   ]
  },
  {
   "cell_type": "code",
   "execution_count": 18,
   "metadata": {},
   "outputs": [],
   "source": [
    "message_with_code_block = \"\"\"This is a message with code block.\n",
    "The code block is below:\n",
    "```python\n",
    "import formulallm.formula as f\n",
    "dir(f)\n",
    "f.help()\n",
    "code = f.load(\"/home/zhang0311/FormulaLLMPY/examples/data/MappingExample.4ml\")\n",
    "f.solve(\"pm\",\"1\",\"Mapping.conforms\")\n",
    "f.list()\n",
    "f.extract(\"0\",\"0\",\"0\")\n",
    "```\n",
    "This is the end of the message.\n",
    "\"\"\""
   ]
  },
  {
   "cell_type": "code",
   "execution_count": 19,
   "metadata": {},
   "outputs": [
    {
     "name": "stdout",
     "output_type": "stream",
     "text": [
      "\u001b[31m\n",
      ">>>>>>>> NO HUMAN INPUT RECEIVED.\u001b[0m\n",
      "\u001b[31m\n",
      ">>>>>>>> USING AUTO REPLY...\u001b[0m\n",
      "\u001b[31m\n",
      ">>>>>>>> EXECUTING CODE BLOCK (inferred language is python)...\u001b[0m\n",
      "exitcode: 0 (execution succeeded)\n",
      "Code output: apply (ap)             - Start an apply task. Use: apply transformstep\n",
      "confhelp (ch)          - Provides help about module configurations and settings\n",
      "core (cr)              - Prints reduced rule set for domains / transforms. Use: core module_name\n",
      "del (d)                - Deletes a variable. Use: del var.\n",
      "det (dt)               - Prints details about the compiled module with the given name. Use: det modname\n",
      "downgrade (dg)         - Attempts to downgrade a (partial) model to Formula V1. Use: downgrade module_name\n",
      "exit (x)               - Exits the interface loop.\n",
      "extract (ex)           - Extract and install a result. Use: extract (app_id | solv_id n) output_name [render_class render_dll]\n",
      "generate (gn)          - Generate C# data model. Use: generate modname\n",
      "help (h)               - Prints this message.\n",
      "interactive (int)      - use: interactive [on | off], will stop interactive prompting (useful for automated tests)\n",
      "list (ls)              - Lists environment objects. Use: ls [vars | progs | tasks]\n",
      "load (l)               - Loads and compiles a file that is not yet loaded. Use: load filename\n",
      "print (p)              - Prints the installed program with the given name. Use: print progname\n",
      "proof (pr)             - Enumerate proofs that a ground term is derivable under a model/apply. Use: proof task_id [term]\n",
      "query (qr)             - Start a query task. Use: query model goals\n",
      "reload (rl)            - Reloads an installed program and all dependent programs. Use: reload [prog | *]\n",
      "render (r)             - Tries to render the module. Use: render modname\n",
      "save (sv)              - Saves the module modname into file.\n",
      "set (s)                - Sets a variable. Use: set var term.\n",
      "solve (sl)             - Start a solve task. Use: solve partial_model max_sols goals\n",
      "stats (st)             - Prints task statistics. Use: stats task_id [top_k_rule]\n",
      "truth (tr)             - Test if a ground term is derivable under a model/apply. Use: truth task_id [term]\n",
      "tunload (tul)          - Unloads a task. Use: tunload [id | *]\n",
      "types (typ)            - Prints inferred variable types. Use: types modname\n",
      "unload (ul)            - Unloads an installed program and all dependent programs. Use: unload [prog | *]\n",
      "verbose (v)            - Changes verbosity. Use: verbose (on | off)\n",
      "wait (w)               - Changes waiting behavior. Use: wait (on | off) to block until task completes\n",
      "watch (wch)            - Use: watch [off | on | prompt] to control watch behavior\n",
      "0.00s.\n",
      "(Compiled) MappingExample.4ml\n",
      "1.04s.\n",
      "Parsing text took: 2\n",
      "Visiting text took: 0\n",
      "Started solve task with Id 0.\n",
      "0.40s.\n",
      "\n",
      "Environment variables\n",
      "\n",
      "Programs in file root\n",
      " +-- /\n",
      "  +-- home\n",
      "   +-- zhang0311\n",
      "    +-- FormulaLLMPY\n",
      "     +-- examples\n",
      "      +-- data [1 file(s)]\n",
      "      | MappingExample.4ml\n",
      "\n",
      "Programs in env root\n",
      " +-- /\n",
      "\n",
      "All tasks\n",
      " Id | Kind  | Status | Result |     Started      | Duration \n",
      "----|-------|--------|--------|------------------|----------\n",
      " 0  | Solve |  Done  |  true  | 06/06/2024 14:12 |  0.31s   \n",
      "0.02s.\n",
      "Solution number 0\n",
      "Processor(0)\n",
      "Component(0, 1/4)\n",
      "Component(1, 1/4)\n",
      "Mapping(Component(0, 1/4), Processor(0))\n",
      "Mapping(Component(1, 1/4), Processor(0))\n",
      "\n",
      "\n",
      "0.01s.\n",
      "\n"
     ]
    }
   ],
   "source": [
    "reply = code_executor_agent.generate_reply(messages=[{\"role\": \"user\", \"content\": message_with_code_block}])\n",
    "print(reply)"
   ]
  },
  {
   "cell_type": "code",
   "execution_count": 8,
   "metadata": {},
   "outputs": [],
   "source": []
  }
 ],
 "metadata": {
  "kernelspec": {
   "display_name": "Python 3 (ipykernel)",
   "language": "python",
   "name": "python3"
  },
  "language_info": {
   "codemirror_mode": {
    "name": "ipython",
    "version": 3
   },
   "file_extension": ".py",
   "mimetype": "text/x-python",
   "name": "python",
   "nbconvert_exporter": "python",
   "pygments_lexer": "ipython3",
   "version": "3.10.12"
  }
 },
 "nbformat": 4,
 "nbformat_minor": 4
}
