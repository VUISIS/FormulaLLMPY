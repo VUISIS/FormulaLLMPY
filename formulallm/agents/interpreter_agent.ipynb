{
 "cells": [
  {
   "cell_type": "code",
   "execution_count": 1,
   "metadata": {},
   "outputs": [],
   "source": [
    "from autogen import UserProxyAgent, ConversableAgent\n",
    "from formulallm.formula import *"
   ]
  },
  {
   "cell_type": "code",
   "execution_count": 2,
   "metadata": {},
   "outputs": [
    {
     "name": "stdout",
     "output_type": "stream",
     "text": [
      "(Compiled) MappingExample.4ml\n",
      "1.39s.\n"
     ]
    }
   ],
   "source": [
    "code = load(\"/home/zhang0311/FormulaLLMPY/examples/data/MappingExample.4ml\")"
   ]
  },
  {
   "cell_type": "code",
   "execution_count": 3,
   "metadata": {},
   "outputs": [],
   "source": [
    "local_llm_config={\n",
    "    \"config_list\": [\n",
    "        {\n",
    "            \"model\": \"NotRequired\", # Loaded with LiteLLM command\n",
    "            \"api_key\": \"NotRequired\", # Not needed\n",
    "            \"base_url\": \"http://0.0.0.0:4000\"  # Your LiteLLM URL\n",
    "        }\n",
    "    ],\n",
    "    \"cache_seed\": None # Turns off caching, useful for testing different models\n",
    "}"
   ]
  },
  {
   "cell_type": "code",
   "execution_count": 4,
   "metadata": {},
   "outputs": [],
   "source": [
    "interpreter = ConversableAgent(name = \"interpreter\", \n",
    "                               system_message = '''You are a specialized coding assistant designed to \n",
    "                                                help users understand and explain code written in domain-specific languages (DSLs). \n",
    "                                                You should provide clear, detailed explanations of code snippets written in DSLs.\n",
    "                                                In situations where the DSL model is \"broken\" (unsolvable), \n",
    "                                                you should provide clear, detailed explanations of why it is unsolvable.\n",
    "                                                ''',\n",
    "                               llm_config = local_llm_config,\n",
    "                               human_input_mode = \"NEVER\",\n",
    "                               code_execution_config = False,\n",
    "                               is_termination_msg = lambda msg: \"Terminate\" in msg[\"content\"],\n",
    "                               description = '''DSL Code Interpreter. \n",
    "                                             Provides detailed explanations of code snippets written in domain-specific languages (DSLs) \n",
    "                                             and identifies why certain code may be unsolvable.                                            \n",
    "                                             '''\n",
    "                               )"
   ]
  },
  {
   "cell_type": "code",
   "execution_count": 5,
   "metadata": {},
   "outputs": [],
   "source": [
    "userProxy = UserProxyAgent(name=\"user_proxy\",\n",
    "                           system_message= '''Give the task, \n",
    "                                           and send instructions to the other agents so that the user\n",
    "                                           can understand what the DSL model represents and why it is \"broken\"\n",
    "                                           ''',\n",
    "                           code_execution_config = False,\n",
    "                           llm_config = local_llm_config,\n",
    "                           human_input_mode=\"ALWAYS\")"
   ]
  },
  {
   "cell_type": "code",
   "execution_count": 6,
   "metadata": {},
   "outputs": [
    {
     "name": "stdout",
     "output_type": "stream",
     "text": [
      "\u001b[33muser_proxy\u001b[0m (to interpreter):\n",
      "\n",
      "Can you tell me what this formula model is doing? \n",
      " domain Mapping\n",
      "{\n",
      "  Component ::= new (id: Integer, utilization: Real).\n",
      "  Processor ::= new (id: Integer).\n",
      "  Mapping   ::= new (c: Component, p: Processor).\n",
      "\n",
      "  // The utilization must be > 0\n",
      "  invalidUtilization :- c is Component, c.utilization <= 0.\n",
      "\n",
      "  badMapping :- p is Processor, \n",
      "\t\ts = sum(0.0, { c.utilization |\n",
      "\t\t\t       c is Component, Mapping(c, p) }), s > 100.\n",
      "\n",
      "  conforms no badMapping, no invalidUtilization.\n",
      "}\n",
      "\n",
      "partial model pm of Mapping\n",
      "{\n",
      "  c1 is Component(0, x).\n",
      "  c2 is Component(1, y).\n",
      "  p1 is Processor(0).\n",
      "  Mapping(c1, p1).\n",
      "  Mapping(c2, p1).\n",
      "}\n",
      "\n",
      "--------------------------------------------------------------------------------\n",
      "\u001b[33minterpreter\u001b[0m (to user_proxy):\n",
      "\n",
      "A delightful formula model in a Domain-Specific Language (DSL)!\n",
      "\n",
      "This model appears to be describing a mapping of components to processors, with constraints on utilization and total utilization. Let me break it down:\n",
      "\n",
      "**Components and Processors**: The model defines two types: `Component` and `Processor`. A `Component` has an ID (an integer) and utilization (a real number), while a `Processor` only has an ID.\n",
      "\n",
      "**Mappings**: A `Mapping` represents the relationship between a `Component` and a `Processor`. It's defined as a new entity with a `Component` and a `Processor`.\n",
      "\n",
      "**Constraints**:\n",
      "\n",
      "1. **Invalid Utilization**: This constraint ensures that no `Component` can have utilization less than or equal to 0.\n",
      "2. **Bad Mapping**: This constraint checks if the total utilization of all `Components` mapped to a single `Processor` exceeds 100.\n",
      "\n",
      "The final formula, `conforms`, asserts that there are no `badMapping`s (i.e., no processor has more than 100 utilization) and no `invalidUtilization`s (i.e., no component has utilization <= 0).\n",
      "\n",
      "**Partial Model**: The partial model, `pm`, defines specific instances of the entities:\n",
      "\n",
      "1. `c1` is a `Component` with ID 0 and utilization `x`.\n",
      "2. `c2` is a `Component` with ID 1 and utilization `y`.\n",
      "3. `p1` is a `Processor` with ID 0.\n",
      "4. The partial model defines two mappings: one between `c1` and `p1`, and another between `c2` and `p1`.\n",
      "\n",
      "In summary, this DSL model describes a system where components are mapped to processors, with constraints on utilization and total utilization. The partial model provides specific instances of the entities and their relationships, allowing for further analysis or simulation.\n",
      "\n",
      "--------------------------------------------------------------------------------\n",
      "\u001b[33muser_proxy\u001b[0m (to interpreter):\n",
      "\n",
      "Terminate\n",
      "\n",
      "--------------------------------------------------------------------------------\n"
     ]
    }
   ],
   "source": [
    "chat_res = userProxy.initiate_chat(\n",
    "    recipient = interpreter,\n",
    "    message = f\"Can you tell me what this formula model is doing? \\n {code}\",\n",
    "    summary_method = \"reflection_with_llm\",\n",
    "    summary_prompt = \"Summarize the conversation\"\n",
    ")"
   ]
  }
 ],
 "metadata": {
  "kernelspec": {
   "display_name": "fpy",
   "language": "python",
   "name": "python3"
  },
  "language_info": {
   "codemirror_mode": {
    "name": "ipython",
    "version": 3
   },
   "file_extension": ".py",
   "mimetype": "text/x-python",
   "name": "python",
   "nbconvert_exporter": "python",
   "pygments_lexer": "ipython3",
   "version": "3.10.12"
  }
 },
 "nbformat": 4,
 "nbformat_minor": 2
}
