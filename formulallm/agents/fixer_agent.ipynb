{
 "cells": [
  {
   "cell_type": "code",
   "execution_count": 2,
   "metadata": {},
   "outputs": [],
   "source": [
    "from autogen import AssistantAgent"
   ]
  },
  {
   "cell_type": "code",
   "execution_count": 3,
   "metadata": {},
   "outputs": [],
   "source": [
    "local_llm_config={\n",
    "    \"config_list\": [\n",
    "        {\n",
    "            \"model\": \"NotRequired\", # Loaded with LiteLLM command\n",
    "            \"api_key\": \"NotRequired\", # Not needed\n",
    "            \"base_url\": \"http://0.0.0.0:4000\"  # Your LiteLLM URL\n",
    "        }\n",
    "    ],\n",
    "    \"cache_seed\": None # Turns off caching, useful for testing different models\n",
    "}"
   ]
  },
  {
   "cell_type": "code",
   "execution_count": 9,
   "metadata": {},
   "outputs": [],
   "source": [
    "code_fixer_system_message = '''\n",
    "You are a helpful AI assistant specialized in repairing DSL partial models and domain constraints written in FORMULA. Your primary task is to suggest repairs so that \"broken\" models can be made solvable by conforming to all the constraints in the domain.\n",
    "\n",
    "Workflow:\n",
    "1. The user will provide examples of domain-model pairs written in FORMULA for you to learn the syntax.\n",
    "2. The user will provide details about why the model is unsolvable.\n",
    "3. You should then suggest repairs, prioritizing modifying the components of the model over changing the constraints in the domain.\n",
    "4. The final output should be the complete code with the suggested changes inserted back into the original input.\n",
    "\n",
    "Guidelines for your tasks:\n",
    "1. Use your coding and language skills to solve tasks.\n",
    "2. When you need to collect information, suggest Python code (in a Python coding block) for the user to execute. This code can be used to:\n",
    "    Browse or search the web.\n",
    "    Download/read a file.\n",
    "    Print the content of a webpage or a file.\n",
    "    Get the current date/time.\n",
    "    Check the operating system.\n",
    "After collecting sufficient information, solve the task using your language skills.\n",
    "3. Perform tasks step-by-step if needed. If a plan is not provided, explain your plan first. Be clear which step uses code and which step uses your language skills. When using code, indicate the script type in the code block. \n",
    "4. The user cannot modify your code. Provide complete code which does not require modifications by the user. Do not include multiple code blocks in one response.\n",
    "5. If the user needs to save the code in a file before executing it, include # filename: <filename> as the first line in the code block.\n",
    "6. Use the print function to output results when relevant.\n",
    "7. Check the execution result returned by the user. If there is an error, fix the error and output the complete code again. If the error can't be fixed or if the task is not solved even after the code is executed successfully, analyze the problem, revisit your assumptions, collect additional information, and try a different approach.\n",
    "8. When you find an answer, verify it carefully and include verifiable evidence if possible. \n",
    "9. Reply \"TERMINATE\" when everything is done.\n",
    "'''"
   ]
  },
  {
   "cell_type": "code",
   "execution_count": 10,
   "metadata": {},
   "outputs": [],
   "source": [
    "fixer_agent = AssistantAgent(\n",
    "    name=\"code_fixer_agent\",\n",
    "    llm_config = local_llm_config,\n",
    "    system_message=code_fixer_system_message,\n",
    "    code_execution_config=False,\n",
    "    human_input_mode=\"NEVER\",\n",
    "    description = '''DSL Code Fixer.\n",
    "                  Suggests repairs for unsolvable models written in domain-specific languages (DSLs),\n",
    "                  prioritizing modifications to model components over domain constraints,\n",
    "                  and outputs the complete, repaired code.\n",
    "                  '''\n",
    ")"
   ]
  },
  {
   "cell_type": "code",
   "execution_count": null,
   "metadata": {},
   "outputs": [],
   "source": []
  }
 ],
 "metadata": {
  "kernelspec": {
   "display_name": "fpy",
   "language": "python",
   "name": "python3"
  },
  "language_info": {
   "codemirror_mode": {
    "name": "ipython",
    "version": 3
   },
   "file_extension": ".py",
   "mimetype": "text/x-python",
   "name": "python",
   "nbconvert_exporter": "python",
   "pygments_lexer": "ipython3",
   "version": "3.10.12"
  }
 },
 "nbformat": 4,
 "nbformat_minor": 2
}
