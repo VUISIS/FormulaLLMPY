{
 "cells": [
  {
   "cell_type": "code",
   "execution_count": 1,
   "id": "26447eeb-bca9-4c1e-b06a-3824eb1dbff5",
   "metadata": {},
   "outputs": [],
   "source": [
    "import formulallm.formula as f"
   ]
  },
  {
   "cell_type": "code",
   "execution_count": 2,
   "id": "05407cdc-c896-4a22-a825-8c087939823b",
   "metadata": {},
   "outputs": [
    {
     "data": {
      "text/plain": [
       "['__builtins__',\n",
       " '__cached__',\n",
       " '__doc__',\n",
       " '__file__',\n",
       " '__loader__',\n",
       " '__name__',\n",
       " '__package__',\n",
       " '__path__',\n",
       " '__spec__',\n",
       " 'apply',\n",
       " 'confhelp',\n",
       " 'core',\n",
       " 'delete',\n",
       " 'details',\n",
       " 'downgrade',\n",
       " 'exit',\n",
       " 'extract',\n",
       " 'formula_program',\n",
       " 'generate',\n",
       " 'help',\n",
       " 'interactive',\n",
       " 'list',\n",
       " 'load',\n",
       " 'p',\n",
       " 'proof',\n",
       " 'query',\n",
       " 'reload',\n",
       " 'render',\n",
       " 'save',\n",
       " 'set',\n",
       " 'solve',\n",
       " 'stats',\n",
       " 'truth',\n",
       " 'tunload',\n",
       " 'types',\n",
       " 'unload',\n",
       " 'verbose',\n",
       " 'wait',\n",
       " 'watch']"
      ]
     },
     "execution_count": 2,
     "metadata": {},
     "output_type": "execute_result"
    }
   ],
   "source": [
    "# List of available methods \n",
    "dir(f)"
   ]
  },
  {
   "cell_type": "code",
   "execution_count": 3,
   "id": "d3aa64f7-1dde-4a1b-a433-85f643179709",
   "metadata": {},
   "outputs": [
    {
     "name": "stdout",
     "output_type": "stream",
     "text": [
      "apply (ap)             - Start an apply task. Use: apply transformstep\n",
      "confhelp (ch)          - Provides help about module configurations and settings\n",
      "core (cr)              - Prints reduced rule set for domains / transforms. Use: core module_name\n",
      "del (d)                - Deletes a variable. Use: del var.\n",
      "det (dt)               - Prints details about the compiled module with the given name. Use: det modname\n",
      "downgrade (dg)         - Attempts to downgrade a (partial) model to Formula V1. Use: downgrade module_name\n",
      "exit (x)               - Exits the interface loop.\n",
      "extract (ex)           - Extract and install a result. Use: extract (app_id | solv_id n) output_name [render_class render_dll]\n",
      "generate (gn)          - Generate C# data model. Use: generate modname\n",
      "help (h)               - Prints this message.\n",
      "interactive (int)      - use: interactive [on | off], will stop interactive prompting (useful for automated tests)\n",
      "list (ls)              - Lists environment objects. Use: ls [vars | progs | tasks]\n",
      "load (l)               - Loads and compiles a file that is not yet loaded. Use: load filename\n",
      "print (p)              - Prints the installed program with the given name. Use: print progname\n",
      "proof (pr)             - Enumerate proofs that a ground term is derivable under a model/apply. Use: proof task_id [term]\n",
      "query (qr)             - Start a query task. Use: query model goals\n",
      "reload (rl)            - Reloads an installed program and all dependent programs. Use: reload [prog | *]\n",
      "render (r)             - Tries to render the module. Use: render modname\n",
      "save (sv)              - Saves the module modname into file.\n",
      "set (s)                - Sets a variable. Use: set var term.\n",
      "solve (sl)             - Start a solve task. Use: solve partial_model max_sols goals\n",
      "stats (st)             - Prints task statistics. Use: stats task_id [top_k_rule]\n",
      "truth (tr)             - Test if a ground term is derivable under a model/apply. Use: truth task_id [term]\n",
      "tunload (tul)          - Unloads a task. Use: tunload [id | *]\n",
      "types (typ)            - Prints inferred variable types. Use: types modname\n",
      "unload (ul)            - Unloads an installed program and all dependent programs. Use: unload [prog | *]\n",
      "verbose (v)            - Changes verbosity. Use: verbose (on | off)\n",
      "wait (w)               - Changes waiting behavior. Use: wait (on | off) to block until task completes\n",
      "watch (wch)            - Use: watch [off | on | prompt] to control watch behavior\n",
      "0.00s.\n"
     ]
    }
   ],
   "source": [
    "f.help()"
   ]
  },
  {
   "cell_type": "code",
   "execution_count": 4,
   "id": "e6b8403b-562b-40ab-8f70-2caa531a1f47",
   "metadata": {},
   "outputs": [
    {
     "name": "stdout",
     "output_type": "stream",
     "text": [
      "(Compiled) MappingExample.4ml\n",
      "0.29s.\n"
     ]
    }
   ],
   "source": [
    "code = f.load(\"./data/MappingExample.4ml\")"
   ]
  },
  {
   "cell_type": "code",
   "execution_count": 5,
   "id": "ade37b0d-f9f3-40df-a480-2ec4fe2cfda0",
   "metadata": {},
   "outputs": [
    {
     "name": "stdout",
     "output_type": "stream",
     "text": [
      "Parsing text took: 0\n",
      "Visiting text took: 0\n",
      "Started solve task with Id 0.\n",
      "0.12s.\n"
     ]
    }
   ],
   "source": [
    "f.solve(\"pm\",\"1\",\"Mapping.conforms\")"
   ]
  },
  {
   "cell_type": "code",
   "execution_count": 6,
   "id": "4c578f47-d949-47db-91e2-d1194ede9f57",
   "metadata": {},
   "outputs": [
    {
     "name": "stdout",
     "output_type": "stream",
     "text": [
      "\n",
      "Environment variables\n",
      "\n",
      "Programs in file root\n",
      " +-- /\n",
      "  +-- C:\n",
      "   +-- Users\n",
      "    +-- sajtt\n",
      "     +-- git\n",
      "      +-- FormulaLLMPY\n",
      "       +-- examples\n",
      "        +-- data [1 file(s)]\n",
      "        | MappingExample.4ml\n",
      "\n",
      "Programs in env root\n",
      " +-- /\n",
      "\n",
      "All tasks\n",
      " Id | Kind  | Status | Result |      Started      | Duration \n",
      "----|-------|--------|--------|-------------------|----------\n",
      " 0  | Solve |  Done  |  true  | 3/26/2024 5:31 PM |  0.09s   \n",
      "0.02s.\n"
     ]
    }
   ],
   "source": [
    "f.list()"
   ]
  },
  {
   "cell_type": "code",
   "execution_count": 7,
   "id": "234360f9-cd39-4768-8a42-72888a1f437e",
   "metadata": {},
   "outputs": [
    {
     "name": "stdout",
     "output_type": "stream",
     "text": [
      "Solution number 0\n",
      "Processor(0)\n",
      "Component(0, 1/4)\n",
      "Component(1, 1/4)\n",
      "Mapping(Component(0, 1/4), Processor(0))\n",
      "Mapping(Component(1, 1/4), Processor(0))\n",
      "\n",
      "\n",
      "0.00s.\n"
     ]
    }
   ],
   "source": [
    "f.extract(\"0\",\"0\",\"0\")"
   ]
  }
 ],
 "metadata": {
  "kernelspec": {
   "display_name": "Python 3 (ipykernel)",
   "language": "python",
   "name": "python3"
  },
  "language_info": {
   "codemirror_mode": {
    "name": "ipython",
    "version": 3
   },
   "file_extension": ".py",
   "mimetype": "text/x-python",
   "name": "python",
   "nbconvert_exporter": "python",
   "pygments_lexer": "ipython3",
   "version": "3.10.13"
  }
 },
 "nbformat": 4,
 "nbformat_minor": 5
}
