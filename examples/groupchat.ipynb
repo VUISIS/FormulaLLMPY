{
 "cells": [
  {
   "cell_type": "code",
   "execution_count": 7,
   "metadata": {},
   "outputs": [],
   "source": [
    "import sys\n",
    "import os\n",
    "\n",
    "# Determine the current directory and add the parent directory to the system path\n",
    "current_dir = os.path.abspath('.')\n",
    "parent_dir = os.path.abspath(os.path.join(current_dir, '..'))\n",
    "sys.path.append(parent_dir)"
   ]
  },
  {
   "cell_type": "code",
   "execution_count": 8,
   "metadata": {},
   "outputs": [],
   "source": [
    "from formulallm.agents import executor_agent, fixer_agent, interpreter_agent, userproxy_agent\n",
    "from autogen import GroupChat, GroupChatManager\n",
    "from formula.formula_program import *"
   ]
  },
  {
   "cell_type": "code",
   "execution_count": 9,
   "metadata": {},
   "outputs": [],
   "source": [
    "local_llm_config={\n",
    "    \"config_list\": [\n",
    "        {\n",
    "            \"model\": \"NotRequired\", # Loaded with LiteLLM command\n",
    "            \"api_key\": \"NotRequired\", # Not needed\n",
    "            \"base_url\": \"http://0.0.0.0:4000\"  # Your LiteLLM URL\n",
    "        }\n",
    "    ],\n",
    "    \"cache_seed\": None # Turns off caching, useful for testing different models\n",
    "}"
   ]
  },
  {
   "cell_type": "code",
   "execution_count": 11,
   "metadata": {},
   "outputs": [],
   "source": [
    "groupchat = GroupChat(\n",
    "    agents=[userproxy_agent, fixer_agent, executor_agent, interpreter_agent],\n",
    "    messages=[],\n",
    "    max_round=10,\n",
    "    send_introductions=True,\n",
    "    allowed_or_disallowed_speaker_transitions = {\n",
    "        userproxy_agent:[interpreter_agent, fixer_agent, executor_agent],\n",
    "        interpreter_agent: [userproxy_agent, fixer_agent, executor_agent],\n",
    "        fixer_agent: [userproxy_agent, executor_agent],\n",
    "        executor_agent: [userproxy_agent]\n",
    "    },\n",
    "    speaker_transitions_type=\"allowed\"\n",
    ")\n"
   ]
  },
  {
   "cell_type": "code",
   "execution_count": 12,
   "metadata": {},
   "outputs": [],
   "source": [
    "manager = GroupChatManager(\n",
    "    groupchat=groupchat, llm_config=local_llm_config\n",
    ")"
   ]
  },
  {
   "cell_type": "code",
   "execution_count": 2,
   "metadata": {},
   "outputs": [],
   "source": [
    "# code = load()\n",
    "task = \"\""
   ]
  },
  {
   "cell_type": "code",
   "execution_count": null,
   "metadata": {},
   "outputs": [],
   "source": [
    "\n",
    "chat_result = userproxy_agent.initiate_chats(\n",
    "    [\n",
    "        {\n",
    "            \"recipient\": fixer_agent,\n",
    "            \"message\": f'''\n",
    "                        You are provided with a corpus of examples consisting of domain-model pairs written in a DSL called Formula. \n",
    "                        Each example includes:\n",
    "                            1. An unsolvable partial model.\n",
    "                            2. A least unsatisfiable core condition (unsat core) that explains why the model is unsolvable.\n",
    "                            3. A corrected version, where either the constraints in the domain or the components in the model are modified to make the model solvable.\n",
    "            \n",
    "                        Your task is to:\n",
    "                            1. Study these examples to learn the syntax of Formula.\n",
    "                            2. Understand how the unsat cores explain the unsolvability of the models.\n",
    "                            3. Learn how to suggest repairs to the broken DSL models based on this understanding.\n",
    "                        \n",
    "                        When suggesting repairs, prioritize modifying the partial models over the constraints in the domain.\n",
    "                        ''',\n",
    "             \"silent\": True\n",
    "        },\n",
    "        {\n",
    "            \"recipient\": manager,\n",
    "            \"message\": task,\n",
    "        },\n",
    "    ]\n",
    ")"
   ]
  }
 ],
 "metadata": {
  "kernelspec": {
   "display_name": "fpy",
   "language": "python",
   "name": "python3"
  },
  "language_info": {
   "codemirror_mode": {
    "name": "ipython",
    "version": 3
   },
   "file_extension": ".py",
   "mimetype": "text/x-python",
   "name": "python",
   "nbconvert_exporter": "python",
   "pygments_lexer": "ipython3",
   "version": "3.10.12"
  }
 },
 "nbformat": 4,
 "nbformat_minor": 2
}
