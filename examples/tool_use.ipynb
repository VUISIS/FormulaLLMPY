{
 "cells": [
  {
   "cell_type": "code",
   "execution_count": 11,
   "metadata": {},
   "outputs": [],
   "source": [
    "import formulallm.formula as f\n",
    "from autogen import ConversableAgent"
   ]
  },
  {
   "cell_type": "code",
   "execution_count": 12,
   "metadata": {},
   "outputs": [],
   "source": [
    "local_llm_config={\n",
    "    \"config_list\": [\n",
    "        {\n",
    "            \"model\": \"NotRequired\", # Loaded with LiteLLM command\n",
    "            \"api_key\": \"NotRequired\", # Not needed\n",
    "            \"base_url\": \"http://0.0.0.0:4000\"  # Your LiteLLM URL\n",
    "        }\n",
    "    ],\n",
    "    \"cache_seed\": None # Turns off caching, useful for testing different models\n",
    "}"
   ]
  },
  {
   "cell_type": "code",
   "execution_count": 13,
   "metadata": {},
   "outputs": [
    {
     "name": "stdin",
     "output_type": "stream",
     "text": [
      "Input path to 4ml file ./data/MappingExample.4ml\n",
      "Input mapping condition Mapping.conforms\n"
     ]
    }
   ],
   "source": [
    "dsl_path = input(\"Input path to 4ml file\")\n",
    "mapping_condition = input(\"Input mapping condition\")"
   ]
  },
  {
   "cell_type": "code",
   "execution_count": 14,
   "metadata": {},
   "outputs": [
    {
     "name": "stdout",
     "output_type": "stream",
     "text": [
      "Captured stdout: (Compiled) MappingExample.4ml\n",
      "0.02s.\n",
      "Parsing text took: 0\n",
      "Visiting text took: 0\n",
      "Started solve task with Id 3.\n",
      "0.02s.\n",
      "Model not solvable. Unsat core terms below.\n",
      "Conflicts: Mapping.badMapping \n",
      "Conflicts: Mapping.invalidUtilization \n",
      "\n",
      "0.00s.\n",
      "\n",
      "Captured stderr: \n"
     ]
    }
   ],
   "source": [
    "import io\n",
    "import contextlib\n",
    "\n",
    "stdout_buffer = io.StringIO()\n",
    "stderr_buffer = io.StringIO()\n",
    "\n",
    "with contextlib.redirect_stdout(stdout_buffer), contextlib.redirect_stderr(stderr_buffer):\n",
    "    try:\n",
    "        code = f.load(dsl_path)\n",
    "        f.solve(\"pm\",\"1\",mapping_condition)\n",
    "        f.extract(\"0\",\"0\",\"0\")\n",
    "    except Exception as e:\n",
    "        pass\n",
    "\n",
    "message = stdout_buffer.getvalue()\n",
    "error_message = stderr_buffer.getvalue()\n",
    "\n",
    "print(\"Captured stdout:\", message)\n",
    "print(\"Captured stderr:\", error_message)"
   ]
  },
  {
   "cell_type": "code",
   "execution_count": 15,
   "metadata": {},
   "outputs": [],
   "source": [
    "agent = ConversableAgent(\n",
    "    name = \"fixer\",\n",
    "    llm_config = local_llm_config,\n",
    "    human_input_mode=\"NEVER\",\n",
    "    system_message = '''You are a code fixer. Given a DSL domain and paritial model pair written in formula, which is potentially unsolvable, modify the provided code to make it solvable. \n",
    "when suggesting repairs, prioritize modifying the partial model over modifying the domain constraints. You will also be provided with messages that might explain why the DSL is unsolvable.\n",
    "Do not say anything said isn't code, just provide the entire modified code in formula.\n",
    "'''\n",
    ")"
   ]
  },
  {
   "cell_type": "code",
   "execution_count": 18,
   "metadata": {},
   "outputs": [],
   "source": [
    "reply = agent.generate_reply(messages = [{\"content\": f\"Here is the code: {code} \\nHere is the messages: {message}\", \"role\": \"user\"} ])"
   ]
  },
  {
   "cell_type": "code",
   "execution_count": 19,
   "metadata": {},
   "outputs": [
    {
     "name": "stdout",
     "output_type": "stream",
     "text": [
      "The issue is that the utilization of `c2` is not specified, making the model unsolvable. To fix this, we can add a constraint to ensure that the utilization of `c2` is greater than 0.\n",
      "\n",
      "Here's the modified code:\n",
      "\n",
      "domain Mapping\n",
      "{\n",
      "  Component ::= new (id: Integer, utilization: Real).\n",
      "  Processor ::= new (id: Integer).\n",
      "  Mapping   ::= new (c: Component, p: Processor).\n",
      "\n",
      "  // The utilization must be > 0\n",
      "  invalidUtilization :- c is Component, c.utilization <= 0.\n",
      "\n",
      "  badMapping :- p is Processor, \n",
      "\t\ts = sum(0.0, { c.utilization |\n",
      "\t\t\t       c is Component, Mapping(c, p) }), s > 100.\n",
      "\n",
      "  conforms no badMapping, no invalidUtilization.\n",
      "}\n",
      "\n",
      "partial model pm of Mapping\n",
      "{\n",
      "  c1 is Component(0, 100).\n",
      "  c2 is Component(1, 50). // utilization of c2 is now specified as 50\n",
      "  p1 is Processor(0).\n",
      "  Mapping(c1, p1).\n",
      "  Mapping(c2, p1).\n",
      "}\n",
      "\n",
      "The model should now be solvable.\n"
     ]
    }
   ],
   "source": [
    "print(reply)"
   ]
  },
  {
   "cell_type": "code",
   "execution_count": null,
   "metadata": {},
   "outputs": [],
   "source": []
  }
 ],
 "metadata": {
  "kernelspec": {
   "display_name": "Python 3 (ipykernel)",
   "language": "python",
   "name": "python3"
  },
  "language_info": {
   "codemirror_mode": {
    "name": "ipython",
    "version": 3
   },
   "file_extension": ".py",
   "mimetype": "text/x-python",
   "name": "python",
   "nbconvert_exporter": "python",
   "pygments_lexer": "ipython3",
   "version": "3.10.14"
  }
 },
 "nbformat": 4,
 "nbformat_minor": 4
}
