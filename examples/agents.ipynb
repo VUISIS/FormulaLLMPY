{
 "cells": [
  {
   "cell_type": "code",
   "execution_count": 1,
   "id": "050d5d96-2ed2-4bf8-9691-b80d4b81d6e6",
   "metadata": {},
   "outputs": [],
   "source": [
    "from formulallm.formula import *\n",
    "from formulallm.agents import FormulaAgent"
   ]
  },
  {
   "cell_type": "code",
   "execution_count": 5,
   "id": "7ab9d252-3caa-4a81-85d3-7c4e0a92f47d",
   "metadata": {},
   "outputs": [],
   "source": [
    "fa = FormulaAgent(\"gpt-3.5-turbo-0125\")"
   ]
  },
  {
   "cell_type": "code",
   "execution_count": 3,
   "id": "744121f0-a9a6-4ecc-a8d6-42be5857fb62",
   "metadata": {},
   "outputs": [
    {
     "name": "stdout",
     "output_type": "stream",
     "text": [
      "(Compiled) MappingExample.4ml\n",
      "0.29s.\n"
     ]
    }
   ],
   "source": [
    "code = load(\".\\data\\MappingExample.4ml\")"
   ]
  },
  {
   "cell_type": "code",
   "execution_count": 6,
   "id": "187342d8-56fe-4039-a8b1-d3ffe61af6ee",
   "metadata": {},
   "outputs": [
    {
     "name": "stdout",
     "output_type": "stream",
     "text": [
      "\n",
      "\n",
      "\u001b[1m> Entering new AgentExecutor chain...\u001b[0m\n",
      "\u001b[32;1m\u001b[1;3mThis formula model defines a domain called Mapping, which consists of three types of entities: Component, Processor, and Mapping. \n",
      "\n",
      "- Component: Represents a component with an id (Integer) and utilization (Real).\n",
      "- Processor: Represents a processor with an id (Integer).\n",
      "- Mapping: Represents the mapping of a Component to a Processor.\n",
      "\n",
      "The model also includes two constraints:\n",
      "1. `invalidUtilization`: This constraint specifies that the utilization of a Component must be greater than 0.\n",
      "2. `badMapping`: This constraint checks if the total utilization of components mapped to a processor exceeds 100.\n",
      "\n",
      "The `conforms` statement ensures that there are no violations of the `badMapping` and `invalidUtilization` constraints in the model.\n",
      "\n",
      "The partial model `pm` of Mapping specifies the creation of two components (c1 and c2) with ids 0 and 1 respectively, a processor p1 with id 0, and maps both components to processor p1.\n",
      "\n",
      "Now, let's analyze why this formula model is broken and how it can be fixed:\n",
      "\n",
      "1. The `badMapping` constraint is checking if the total utilization of components mapped to a processor exceeds 100, but the sum is calculated incorrectly. The correct sum should be the sum of utilizations of components mapped to the processor, not the sum of all component utilizations. This can be fixed by updating the sum calculation in the `badMapping` constraint.\n",
      "\n",
      "2. The `conforms` statement is used to ensure that there are no violations of constraints, but it is missing the actual constraints to be checked. It should include `no badMapping` and `no invalidUtilization` to enforce the constraints properly.\n",
      "\n",
      "3. The partial model `pm` is incomplete as it does not specify the values of x and y for components c1 and c2 respectively. These values should be provided to create valid instances of components.\n",
      "\n",
      "By addressing these issues, the formula model can be fixed and accurately represent the constraints and entities in the Mapping domain.\u001b[0m\n",
      "\n",
      "\u001b[1m> Finished chain.\u001b[0m\n"
     ]
    }
   ],
   "source": [
    "prompt = \"Can you tell me what this formula model is doing?\"\n",
    "fa.run(code, prompt)"
   ]
  }
 ],
 "metadata": {
  "kernelspec": {
   "display_name": "Python 3 (ipykernel)",
   "language": "python",
   "name": "python3"
  },
  "language_info": {
   "codemirror_mode": {
    "name": "ipython",
    "version": 3
   },
   "file_extension": ".py",
   "mimetype": "text/x-python",
   "name": "python",
   "nbconvert_exporter": "python",
   "pygments_lexer": "ipython3",
   "version": "3.10.13"
  }
 },
 "nbformat": 4,
 "nbformat_minor": 5
}
